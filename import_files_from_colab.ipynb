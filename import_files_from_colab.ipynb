{
  "nbformat": 4,
  "nbformat_minor": 0,
  "metadata": {
    "colab": {
      "name": "import files from colab.ipynb",
      "provenance": [],
      "collapsed_sections": [],
      "mount_file_id": "14iJcBY2cQ-ezOLkAr1QIWb_7OBeGV5ZW",
      "authorship_tag": "ABX9TyNpQ82WLBGt5ackVbEcurGQ",
      "include_colab_link": true
    },
    "kernelspec": {
      "name": "python3",
      "display_name": "Python 3"
    },
    "language_info": {
      "name": "python"
    }
  },
  "cells": [
    {
      "cell_type": "markdown",
      "metadata": {
        "id": "view-in-github",
        "colab_type": "text"
      },
      "source": [
        "<a href=\"https://colab.research.google.com/github/abirhazra/Basic_Python/blob/main/import_files_from_colab.ipynb\" target=\"_parent\"><img src=\"https://colab.research.google.com/assets/colab-badge.svg\" alt=\"Open In Colab\"/></a>"
      ]
    },
    {
      "cell_type": "code",
      "metadata": {
        "id": "hFoG0lPu809X"
      },
      "source": [
        "import pandas as pd\n",
        "from google.colab import files"
      ],
      "execution_count": 12,
      "outputs": []
    },
    {
      "cell_type": "code",
      "metadata": {
        "colab": {
          "base_uri": "https://localhost:8080/"
        },
        "id": "FIgk-9qx-LDE",
        "outputId": "7d2a31bb-791d-4972-fb38-65ca99595258"
      },
      "source": [
        "from google.colab import drive\n",
        "drive.mount('/content/drive')"
      ],
      "execution_count": 18,
      "outputs": [
        {
          "output_type": "stream",
          "text": [
            "Mounted at /content/drive\n"
          ],
          "name": "stdout"
        }
      ]
    },
    {
      "cell_type": "code",
      "metadata": {
        "id": "O9pwC2g7_RIE"
      },
      "source": [
        "data = pd.read_csv(\"/content/drive/MyDrive/Colab Notebooks/data.csv\")"
      ],
      "execution_count": 22,
      "outputs": []
    },
    {
      "cell_type": "code",
      "metadata": {
        "colab": {
          "base_uri": "https://localhost:8080/"
        },
        "id": "Y09sidni9RTm",
        "outputId": "634b64f5-5e6d-4784-eba7-98acba46f316"
      },
      "source": [
        "df = pd.DataFrame(data, columns= ['CPU','Memory'])\n",
        "print (df)"
      ],
      "execution_count": 23,
      "outputs": [
        {
          "output_type": "stream",
          "text": [
            "    CPU  Memory\n",
            "0    10      20\n",
            "1    11      20\n",
            "2    12      21\n",
            "3    13      25\n",
            "4    14      24\n",
            "5    15      22\n",
            "6    16      25\n",
            "7    17      21\n",
            "8    18      20\n",
            "9    19      20\n",
            "10   20      24\n",
            "11   21      20\n",
            "12   22      20\n",
            "13   23      21\n",
            "14   24      25\n",
            "15   25      24\n",
            "16   26      22\n",
            "17   27      25\n",
            "18   28      21\n",
            "19   29      20\n",
            "20   30      20\n",
            "21   31      24\n",
            "22   32      20\n",
            "23   33      20\n",
            "24   34      20\n",
            "25   35      21\n",
            "26   36      25\n",
            "27   37      24\n",
            "28   38      22\n",
            "29   39      25\n",
            "30   40      21\n"
          ],
          "name": "stdout"
        }
      ]
    },
    {
      "cell_type": "code",
      "metadata": {
        "colab": {
          "base_uri": "https://localhost:8080/"
        },
        "id": "ZwDjr-5P9T7v",
        "outputId": "368997ef-2069-4d2a-c2f8-6cdc1e0c4dc9"
      },
      "source": [
        "print (\"----------------------------\")\n",
        "print(\"2nd element in CPU :\", df['CPU'][2])\n",
        "print(\"2nd element in Memory :\", df['Memory'][2])\n",
        "print(\"maximum element in CPU :\", df['CPU'].max())\n",
        "print(\"maximum element in memory:\", df['Memory'].max())\n",
        "print(\"MINIMUM  element in CPU  :\", df['CPU'].min())\n",
        "print(\"MUNIMUM  element in MEMORY :\", df['Memory'].min())\n",
        "print(\"Average  element in CPU  :\", df['CPU'].mean())\n",
        "print(\"Average  element in MEMORY :\", df['Memory'].mean())"
      ],
      "execution_count": 24,
      "outputs": [
        {
          "output_type": "stream",
          "text": [
            "----------------------------\n",
            "2nd element in CPU : 12\n",
            "2nd element in Memory : 21\n",
            "maximum element in CPU : 40\n",
            "maximum element in memory: 25\n",
            "MINIMUM  element in CPU  : 10\n",
            "MUNIMUM  element in MEMORY : 20\n",
            "Average  element in CPU  : 25.0\n",
            "Average  element in MEMORY : 22.0\n"
          ],
          "name": "stdout"
        }
      ]
    },
    {
      "cell_type": "code",
      "metadata": {
        "colab": {
          "base_uri": "https://localhost:8080/"
        },
        "id": "uQbfg6vHBcio",
        "outputId": "0cac9ce9-e395-4256-b5a5-e450a656be38"
      },
      "source": [
        "# df.fillna(0,inplace=True) it will replace all the blank places with 0\n",
        "rows, columns = df.shape\n",
        "print(\"number of rows :\", rows)\n",
        "print(\"number of columns :\", columns)\n",
        "print(\"show some data examples :\", df.head())\n",
        "print(\"describe statistics of the data :\", df.describe())"
      ],
      "execution_count": 26,
      "outputs": [
        {
          "output_type": "stream",
          "text": [
            "number of rows : 31\n",
            "number of columns : 2\n",
            "show some data examples :    CPU  Memory\n",
            "0   10      20\n",
            "1   11      20\n",
            "2   12      21\n",
            "3   13      25\n",
            "4   14      24\n",
            "describe statistics of the data :              CPU    Memory\n",
            "count  31.000000  31.00000\n",
            "mean   25.000000  22.00000\n",
            "std     9.092121   2.03306\n",
            "min    10.000000  20.00000\n",
            "25%    17.500000  20.00000\n",
            "50%    25.000000  21.00000\n",
            "75%    32.500000  24.00000\n",
            "max    40.000000  25.00000\n"
          ],
          "name": "stdout"
        }
      ]
    },
    {
      "cell_type": "code",
      "metadata": {
        "id": "J1pzkuEIBgJI"
      },
      "source": [
        "# df[df.CPU>25] #lis where CPU is grater than 25\n",
        "# df[df.CPU==df['CPU'].max()] #ehere CPU rate is maximum\n",
        "\n",
        "# df['Memory'][df.CPU==df['CPU'].max()] #gives the Memory when CPU is maximum\n",
        "# df[['Memory','*','*']][df.CPU==df['CPU'].max()] # put other column name in place of star\n",
        "\n",
        "# df.index \n",
        "# df.set_index('CPU', inplace = True) # set CPU as the index\n",
        "# df.reset_index('CPU', inplace = True) # set to the old index\n",
        "# df.loc [12] #show the ith number index"
      ],
      "execution_count": 29,
      "outputs": []
    },
    {
      "cell_type": "code",
      "metadata": {
        "colab": {
          "base_uri": "https://localhost:8080/"
        },
        "id": "LpIx2-XOBqnv",
        "outputId": "8a28921f-9a39-4926-d99e-398bc7c2b47b"
      },
      "source": [
        "# import numpy as np\n",
        "# a = (np.random.rand(1,10)) #create a random (1,10) array\n",
        "# result = np.zeros(10) #create an array of zeros to hold the result\n",
        "# result = (b.reshape(1,10))# reshape b to make sure its a (1,10) array and not (10,)\n",
        "# print (\"a: \\n\" + str(a))\n",
        "# for i in range(10):\n",
        "#     if a[0,i]>0.5:\n",
        "#         result[0,i] = 1\n",
        "#     else:\n",
        "#         result[0,i] = 0\n",
        "# print (\"result: \\n\" +str(result))\n",
        "\n",
        "# #%%\n",
        "\n",
        "import numpy as np\n",
        "#a = (np.random.rand(1,10)) #create a random (1,10) array\n",
        "#print (\"a: \\n\" + str(a))\n",
        "result = (np.where(df>20,1,0)) \n",
        "print (\"result: \\n\" +str(result))"
      ],
      "execution_count": 31,
      "outputs": [
        {
          "output_type": "stream",
          "text": [
            "result: \n",
            "[[0 0]\n",
            " [0 0]\n",
            " [0 1]\n",
            " [0 1]\n",
            " [0 1]\n",
            " [0 1]\n",
            " [0 1]\n",
            " [0 1]\n",
            " [0 0]\n",
            " [0 0]\n",
            " [0 1]\n",
            " [1 0]\n",
            " [1 0]\n",
            " [1 1]\n",
            " [1 1]\n",
            " [1 1]\n",
            " [1 1]\n",
            " [1 1]\n",
            " [1 1]\n",
            " [1 0]\n",
            " [1 0]\n",
            " [1 1]\n",
            " [1 0]\n",
            " [1 0]\n",
            " [1 0]\n",
            " [1 1]\n",
            " [1 1]\n",
            " [1 1]\n",
            " [1 1]\n",
            " [1 1]\n",
            " [1 1]]\n"
          ],
          "name": "stdout"
        }
      ]
    },
    {
      "cell_type": "code",
      "metadata": {
        "colab": {
          "base_uri": "https://localhost:8080/"
        },
        "id": "tHbZfNHHB6wP",
        "outputId": "ad7c8661-34ea-4ffd-a5b1-47d4ec15c3e2"
      },
      "source": [
        "\n",
        "delay_queue=[pd.to_numeric(df[\"Memory\"])]\n",
        "computation_queue=[pd.to_numeric(df[\"CPU\"])]\n",
        "d_queue = []\n",
        "c_queue = []\n",
        "th1=20\n",
        "th2=22\n",
        "for j in range(len(df)):\n",
        "    if (df['CPU'][j]<th1 and df['Memory'][j]<th2):\n",
        "        d_queue.append([df['CPU'][j],df['Memory'][j]])\n",
        "#        print(delay_queue)\n",
        "    else:\n",
        "        c_queue.append([df['CPU'][j],df['Memory'][j]])\n",
        "#print (\"df: \\n\" +str(result))\n",
        "#%%\n",
        "print(d_queue)\n",
        "print(c_queue)\n"
      ],
      "execution_count": 32,
      "outputs": [
        {
          "output_type": "stream",
          "text": [
            "[[10, 20], [11, 20], [12, 21], [17, 21], [18, 20], [19, 20]]\n",
            "[[13, 25], [14, 24], [15, 22], [16, 25], [20, 24], [21, 20], [22, 20], [23, 21], [24, 25], [25, 24], [26, 22], [27, 25], [28, 21], [29, 20], [30, 20], [31, 24], [32, 20], [33, 20], [34, 20], [35, 21], [36, 25], [37, 24], [38, 22], [39, 25], [40, 21]]\n"
          ],
          "name": "stdout"
        }
      ]
    },
    {
      "cell_type": "code",
      "metadata": {
        "colab": {
          "base_uri": "https://localhost:8080/"
        },
        "id": "RwrTx3EG9NeR",
        "outputId": "acb1590f-622c-409e-ea08-f851133f0934"
      },
      "source": [
        "c1 = [[1000,1000]]\n",
        "c2 = [[1200,1200]]\n",
        "\n",
        "cloud1_queue = []\n",
        "cloud2_queue = []\n",
        "fog1_queue = []\n",
        "fog2_queue = []\n",
        "fog3_queue = []\n",
        "\n",
        "\n",
        "f1 = [[50,50]]\n",
        "f2 = [[51,51]]\n",
        "f3 = [[52,52]]\n",
        "\n",
        "for i in range(6):\n",
        "    if (d_queue[i] < f1[0] or d_queue[i] < f2[0] or d_queue[i] < f3[0]):\n",
        "        print(d_queue[i])\n",
        "#        print(delay_queue)\n",
        "    else:\n",
        "        print(d_queue[i])\n",
        "#print (\"df: \\n\" +str(result))\n",
        "\n",
        "for i in range(25):\n",
        "    if (c_queue[i] < c1[0] or c_queue[i] < c2[0]):\n",
        "        print(c_queue[i])\n",
        "#        print(delay_queue)\n",
        "    else:\n",
        "        print(c_queue[i])"
      ],
      "execution_count": 33,
      "outputs": [
        {
          "output_type": "stream",
          "text": [
            "[10, 20]\n",
            "[11, 20]\n",
            "[12, 21]\n",
            "[17, 21]\n",
            "[18, 20]\n",
            "[19, 20]\n",
            "[13, 25]\n",
            "[14, 24]\n",
            "[15, 22]\n",
            "[16, 25]\n",
            "[20, 24]\n",
            "[21, 20]\n",
            "[22, 20]\n",
            "[23, 21]\n",
            "[24, 25]\n",
            "[25, 24]\n",
            "[26, 22]\n",
            "[27, 25]\n",
            "[28, 21]\n",
            "[29, 20]\n",
            "[30, 20]\n",
            "[31, 24]\n",
            "[32, 20]\n",
            "[33, 20]\n",
            "[34, 20]\n",
            "[35, 21]\n",
            "[36, 25]\n",
            "[37, 24]\n",
            "[38, 22]\n",
            "[39, 25]\n",
            "[40, 21]\n"
          ],
          "name": "stdout"
        }
      ]
    },
    {
      "cell_type": "code",
      "metadata": {
        "id": "rZhnr1zzAnCy"
      },
      "source": [
        ""
      ],
      "execution_count": null,
      "outputs": []
    }
  ]
}