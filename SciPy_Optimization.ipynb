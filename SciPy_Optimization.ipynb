{
  "nbformat": 4,
  "nbformat_minor": 0,
  "metadata": {
    "colab": {
      "name": "SciPy_Optimization.ipynb",
      "provenance": [],
      "collapsed_sections": [],
      "authorship_tag": "ABX9TyPrWRoAppq7dZ+P/S2Lo26V",
      "include_colab_link": true
    },
    "kernelspec": {
      "name": "python3",
      "display_name": "Python 3"
    },
    "language_info": {
      "name": "python"
    }
  },
  "cells": [
    {
      "cell_type": "markdown",
      "metadata": {
        "id": "view-in-github",
        "colab_type": "text"
      },
      "source": [
        "<a href=\"https://colab.research.google.com/github/abirhazra/Basic_Python/blob/main/SciPy_Optimization.ipynb\" target=\"_parent\"><img src=\"https://colab.research.google.com/assets/colab-badge.svg\" alt=\"Open In Colab\"/></a>"
      ]
    },
    {
      "cell_type": "code",
      "metadata": {
        "id": "hOpV5Rx6TlWV"
      },
      "source": [
        "import numpy as np\n",
        "from scipy.optimize import minimize"
      ],
      "execution_count": 15,
      "outputs": []
    },
    {
      "cell_type": "code",
      "metadata": {
        "id": "2euEBFKRTusx"
      },
      "source": [
        "def objective(x):\n",
        "  x1=x[0]\n",
        "  x2=x[1]\n",
        "  x3=x[2]\n",
        "  x4=x[3]\n",
        "  return x1*x4*(x1+x4+x3)+x3"
      ],
      "execution_count": 16,
      "outputs": []
    },
    {
      "cell_type": "code",
      "metadata": {
        "id": "bCjyOKL7UUhs"
      },
      "source": [
        "def constraint1(x):\n",
        "  return x[0]*x[1]*x[2]*x[3]-25\n",
        "def constraint2(x):\n",
        "  sum_sq = 40\n",
        "  for i in range(4):\n",
        "    sum_sq = sum_sq - x[i]**2\n",
        "  return sum_sq"
      ],
      "execution_count": 17,
      "outputs": []
    },
    {
      "cell_type": "code",
      "metadata": {
        "colab": {
          "base_uri": "https://localhost:8080/"
        },
        "id": "tr8rbOthbvFh",
        "outputId": "8a94d90f-b928-4b7e-b8e2-e391536966f4"
      },
      "source": [
        "x0=[1,5,5,1]\n",
        "print(objective(x0))"
      ],
      "execution_count": 18,
      "outputs": [
        {
          "output_type": "stream",
          "text": [
            "12\n"
          ],
          "name": "stdout"
        }
      ]
    },
    {
      "cell_type": "code",
      "metadata": {
        "id": "c5o_YS9ecAoP"
      },
      "source": [
        "b = (1.0,5.0)\n",
        "bnds = (b,b,b,b)\n",
        "con1 = {'type': 'ineq', 'fun': constraint1}\n",
        "con2 = {'type': 'eq', 'fun': constraint2}\n",
        "cons = [con1, con2]"
      ],
      "execution_count": 21,
      "outputs": []
    },
    {
      "cell_type": "code",
      "metadata": {
        "id": "8sINjgCodGbk"
      },
      "source": [
        "sol = minimize (objective, x0,method='slsqp',bounds=bnds,constraints=cons)"
      ],
      "execution_count": 23,
      "outputs": []
    },
    {
      "cell_type": "code",
      "metadata": {
        "colab": {
          "base_uri": "https://localhost:8080/"
        },
        "id": "r6zTHjHtdHds",
        "outputId": "13429851-f81b-483f-e777-f3012ba07702"
      },
      "source": [
        "print(sol)"
      ],
      "execution_count": 25,
      "outputs": [
        {
          "output_type": "stream",
          "text": [
            "     fun: 11.92315751716307\n",
            "     jac: array([8.48000717, 0.        , 2.43570352, 8.48000765])\n",
            " message: 'Optimization terminated successfully.'\n",
            "    nfev: 30\n",
            "     nit: 5\n",
            "    njev: 5\n",
            "  status: 0\n",
            " success: True\n",
            "       x: array([1.19820855, 5.        , 3.48261292, 1.19820846])\n"
          ],
          "name": "stdout"
        }
      ]
    },
    {
      "cell_type": "code",
      "metadata": {
        "colab": {
          "base_uri": "https://localhost:8080/"
        },
        "id": "qV3HT9VGfeaH",
        "outputId": "a5113d2b-7f3a-460b-f0ec-e3cca5a3f526"
      },
      "source": [
        "print(sol.fun)"
      ],
      "execution_count": 29,
      "outputs": [
        {
          "output_type": "stream",
          "text": [
            "11.92315751716307\n"
          ],
          "name": "stdout"
        }
      ]
    },
    {
      "cell_type": "code",
      "metadata": {
        "colab": {
          "base_uri": "https://localhost:8080/"
        },
        "id": "TwLE06qIfjhN",
        "outputId": "2e345353-a6af-4edc-d485-f11e30d74c84"
      },
      "source": [
        "print(sol.x)"
      ],
      "execution_count": 30,
      "outputs": [
        {
          "output_type": "stream",
          "text": [
            "[1.19820855 5.         3.48261292 1.19820846]\n"
          ],
          "name": "stdout"
        }
      ]
    },
    {
      "cell_type": "code",
      "metadata": {
        "colab": {
          "base_uri": "https://localhost:8080/"
        },
        "id": "NySy-NBpf1HN",
        "outputId": "163e23c3-832e-431b-fd4d-7877f3386e7c"
      },
      "source": [
        "print(sol.x[1])"
      ],
      "execution_count": 31,
      "outputs": [
        {
          "output_type": "stream",
          "text": [
            "5.0\n"
          ],
          "name": "stdout"
        }
      ]
    },
    {
      "cell_type": "code",
      "metadata": {
        "id": "kAVpxYOdf2pN"
      },
      "source": [
        ""
      ],
      "execution_count": null,
      "outputs": []
    }
  ]
}