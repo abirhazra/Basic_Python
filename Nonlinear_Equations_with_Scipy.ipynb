{
  "nbformat": 4,
  "nbformat_minor": 0,
  "metadata": {
    "colab": {
      "name": "Nonlinear Equations with Scipy.ipynb",
      "provenance": [],
      "collapsed_sections": [],
      "authorship_tag": "ABX9TyPw9o2jYGy5fxpzZlUWiS5C",
      "include_colab_link": true
    },
    "kernelspec": {
      "name": "python3",
      "display_name": "Python 3"
    },
    "language_info": {
      "name": "python"
    }
  },
  "cells": [
    {
      "cell_type": "markdown",
      "metadata": {
        "id": "view-in-github",
        "colab_type": "text"
      },
      "source": [
        "<a href=\"https://colab.research.google.com/github/abirhazra/Basic_Python/blob/main/Nonlinear_Equations_with_Scipy.ipynb\" target=\"_parent\"><img src=\"https://colab.research.google.com/assets/colab-badge.svg\" alt=\"Open In Colab\"/></a>"
      ]
    },
    {
      "cell_type": "markdown",
      "metadata": {
        "id": "PiuGSVBChh11"
      },
      "source": [
        "# Use fsolve to find the root of the polynamial $f(x)=2x^2+3x-10$"
      ]
    },
    {
      "cell_type": "code",
      "metadata": {
        "id": "-W-wm5aPhLWx"
      },
      "source": [
        "%matplotlib inline\n",
        "import matplotlib.pyplot as plt\n",
        "import numpy as np\n",
        "from scipy.optimize import fsolve"
      ],
      "execution_count": null,
      "outputs": []
    },
    {
      "cell_type": "code",
      "metadata": {
        "colab": {
          "base_uri": "https://localhost:8080/",
          "height": 333
        },
        "id": "yNMKd7u_-xR-",
        "outputId": "b303b157-60ab-46dc-d753-ae13f82d8827"
      },
      "source": [
        "def f(x):\n",
        "  y = 2 * x**2 + 3 * x - 10\n",
        "  return y\n",
        "\n",
        "print(f(1.5))\n",
        "x = np.linspace(1,50)\n",
        "\n",
        "plt.plot(x,f(x))\n",
        "plt.plot(x,np.zeros(len(x)))\n",
        "print(x)"
      ],
      "execution_count": null,
      "outputs": [
        {
          "output_type": "stream",
          "text": [
            "-1.0\n",
            "[ 1.  2.  3.  4.  5.  6.  7.  8.  9. 10. 11. 12. 13. 14. 15. 16. 17. 18.\n",
            " 19. 20. 21. 22. 23. 24. 25. 26. 27. 28. 29. 30. 31. 32. 33. 34. 35. 36.\n",
            " 37. 38. 39. 40. 41. 42. 43. 44. 45. 46. 47. 48. 49. 50.]\n"
          ],
          "name": "stdout"
        },
        {
          "output_type": "display_data",
          "data": {
            "image/png": "[encoded data removed]",
            "text/plain": [
              "<Figure size 432x288 with 1 Axes>"
            ]
          },
          "metadata": {
            "tags": [],
            "needs_background": "light"
          }
        }
      ]
    },
    {
      "cell_type": "markdown",
      "metadata": {
        "id": "QnGPvQIrEr9F"
      },
      "source": [
        "# Use fsolve to find the solution:\n",
        "$f(x,y) = 2x^{2/3} + y^{2/3} - 9^{1/3}$,\n",
        "$g(x,y) = x^2/4 + sqrt(y) - 1$,\n",
        "initial guess $x_0 = 1, y_0 = 1$\n"
      ]
    },
    {
      "cell_type": "code",
      "metadata": {
        "colab": {
          "base_uri": "https://localhost:8080/"
        },
        "id": "vt8RpRfe_QUI",
        "outputId": "467fb993-6348-4bfd-bc7e-f369870b4d79"
      },
      "source": [
        "def f2(z):\n",
        "  x = z[0]\n",
        "  y = z[1]\n",
        "  f=np.zeros(2)\n",
        "  f[0] = 2.0 * x**(2.0/3.0) + y**(2.0/3.0) - 9.0**(1.0/3.0)\n",
        "  f[1] = x**2/4 + y**(0.5) - 1\n",
        "  return f\n",
        "\n",
        "z = fsolve(f2,[1,1])\n",
        "print(z)\n",
        "print(f2(z))"
      ],
      "execution_count": 26,
      "outputs": [
        {
          "output_type": "stream",
          "text": [
            "[0.4312399  0.90917758]\n",
            "[-2.66453526e-15  1.33226763e-15]\n"
          ],
          "name": "stdout"
        }
      ]
    },
    {
      "cell_type": "code",
      "metadata": {
        "id": "zQkhibV3G7cR"
      },
      "source": [
        ""
      ],
      "execution_count": null,
      "outputs": []
    }
  ]
}