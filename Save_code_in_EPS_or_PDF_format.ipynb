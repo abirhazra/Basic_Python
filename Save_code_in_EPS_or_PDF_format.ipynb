{
  "nbformat": 4,
  "nbformat_minor": 0,
  "metadata": {
    "colab": {
      "name": "Save code in EPS or PDF format.ipynb",
      "provenance": [],
      "collapsed_sections": [],
      "authorship_tag": "ABX9TyMuigT2PMhYLH/c/y4ChAmm",
      "include_colab_link": true
    },
    "kernelspec": {
      "name": "python3",
      "display_name": "Python 3"
    },
    "language_info": {
      "name": "python"
    }
  },
  "cells": [
    {
      "cell_type": "markdown",
      "metadata": {
        "id": "view-in-github",
        "colab_type": "text"
      },
      "source": [
        "<a href=\"https://colab.research.google.com/github/abirhazra/Basic_Python/blob/main/Save_code_in_EPS_or_PDF_format.ipynb\" target=\"_parent\"><img src=\"https://colab.research.google.com/assets/colab-badge.svg\" alt=\"Open In Colab\"/></a>"
      ]
    },
    {
      "cell_type": "code",
      "metadata": {
        "colab": {
          "base_uri": "https://localhost:8080/",
          "height": 323
        },
        "id": "-1ujj5Wn-j-p",
        "outputId": "ad30ee0a-e22b-4746-feba-4cec5b881dc5"
      },
      "source": [
        "import numpy as np\n",
        "import matplotlib.pyplot as plt\n",
        " \n",
        "# width of the bars\n",
        "barWidth = 0.3\n",
        " \n",
        "# Choose the height of the blue bars\n",
        "bars1 = [10, 9, 2]\n",
        " \n",
        "# Choose the height of the cyan bars\n",
        "bars2 = [10.8, 9.5, 4.5]\n",
        " \n",
        "# Choose the height of the error bars (bars1)\n",
        "yer1 = [0.5, 0.4, 0.5]\n",
        " \n",
        "# Choose the height of the error bars (bars2)\n",
        "yer2 = [1, 0.7, 1]\n",
        " \n",
        "# The x position of bars\n",
        "r1 = np.arange(len(bars1))\n",
        "r2 = [x + barWidth for x in r1]\n",
        " \n",
        "# Create blue bars\n",
        "plt.bar(r1, bars1, width = barWidth, color = 'blue', edgecolor = 'black', yerr=yer1, capsize=7, label='poacee')\n",
        " \n",
        "# Create cyan bars\n",
        "plt.bar(r2, bars2, width = barWidth, color = 'cyan', edgecolor = 'black', yerr=yer2, capsize=7, label='sorgho')\n",
        " \n",
        "# general layout\n",
        "plt.xticks([r + barWidth for r in range(len(bars1))], ['10', '20', '30'],  fontsize=15)\n",
        "plt.yticks(fontsize=15)\n",
        "\n",
        "plt.ylabel('CO2 emission (in lbs)',  fontsize=15)\n",
        "plt.xlabel('Number of devices',  fontsize=15)\n",
        "plt.legend()\n",
        " \n",
        "# Show graphic\n",
        "plt.savefig('line_plot.pdf', bbox_inches='tight') \n",
        "plt.savefig('line_plot.eps', bbox_inches='tight') \n",
        "plt.show()\n",
        "\n"
      ],
      "execution_count": 1,
      "outputs": [
        {
          "output_type": "stream",
          "text": [
            "The PostScript backend does not support transparency; partially transparent artists will be rendered opaque.\n",
            "The PostScript backend does not support transparency; partially transparent artists will be rendered opaque.\n"
          ],
          "name": "stderr"
        },
        {
          "output_type": "display_data",
          "data": {
            "image/png": "[encoded data removed]",
            "text/plain": [
              "<Figure size 432x288 with 1 Axes>"
            ]
          },
          "metadata": {
            "tags": [],
            "needs_background": "light"
          }
        }
      ]
    },
    {
      "cell_type": "code",
      "metadata": {
        "id": "tfPS6GCd-sfj"
      },
      "source": [
        ""
      ],
      "execution_count": null,
      "outputs": []
    }
  ]
}