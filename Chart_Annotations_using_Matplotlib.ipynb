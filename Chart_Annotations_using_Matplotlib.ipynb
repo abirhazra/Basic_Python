{
  "nbformat": 4,
  "nbformat_minor": 0,
  "metadata": {
    "colab": {
      "name": "Chart Annotations using Matplotlib.ipynb",
      "provenance": [],
      "collapsed_sections": [],
      "authorship_tag": "ABX9TyPgyJGc0rL7BDx02644X7jV",
      "include_colab_link": true
    },
    "kernelspec": {
      "name": "python3",
      "display_name": "Python 3"
    },
    "language_info": {
      "name": "python"
    }
  },
  "cells": [
    {
      "cell_type": "markdown",
      "metadata": {
        "id": "view-in-github",
        "colab_type": "text"
      },
      "source": [
        "<a href=\"https://colab.research.google.com/github/abirhazra/Basic_Python/blob/main/Chart_Annotations_using_Matplotlib.ipynb\" target=\"_parent\"><img src=\"https://colab.research.google.com/assets/colab-badge.svg\" alt=\"Open In Colab\"/></a>"
      ]
    },
    {
      "cell_type": "code",
      "metadata": {
        "id": "eBSOIIHgD-On"
      },
      "source": [
        "# Import libraries\n",
        "import numpy as np\n",
        "import pandas as pd\n",
        "import seaborn as sns\n",
        "import matplotlib.pyplot as plt"
      ],
      "execution_count": 1,
      "outputs": []
    },
    {
      "cell_type": "code",
      "metadata": {
        "id": "jAgoY5r6IcYV"
      },
      "source": [
        "# Create dataframe\n",
        "data = {\"Name\": [\"A\",\"B\",\"C\",\"D\"],\n",
        "        \"Marks\": [32,56,92,44]}"
      ],
      "execution_count": 2,
      "outputs": []
    },
    {
      "cell_type": "code",
      "metadata": {
        "id": "8G_1o-awI4d0"
      },
      "source": [
        "df = pd.DataFrame(data, columns=['Name', 'Marks'])"
      ],
      "execution_count": 3,
      "outputs": []
    },
    {
      "cell_type": "code",
      "metadata": {
        "colab": {
          "base_uri": "https://localhost:8080/",
          "height": 173
        },
        "id": "h8AyG8xIJUst",
        "outputId": "39e4c40d-4e30-4364-b7c0-5423a03befcf"
      },
      "source": [
        "df"
      ],
      "execution_count": 4,
      "outputs": [
        {
          "output_type": "execute_result",
          "data": {
            "text/html": [
              "<div>\n",
              "<style scoped>\n",
              "    .dataframe tbody tr th:only-of-type {\n",
              "        vertical-align: middle;\n",
              "    }\n",
              "\n",
              "    .dataframe tbody tr th {\n",
              "        vertical-align: top;\n",
              "    }\n",
              "\n",
              "    .dataframe thead th {\n",
              "        text-align: right;\n",
              "    }\n",
              "</style>\n",
              "<table border=\"1\" class=\"dataframe\">\n",
              "  <thead>\n",
              "    <tr style=\"text-align: right;\">\n",
              "      <th></th>\n",
              "      <th>Name</th>\n",
              "      <th>Marks</th>\n",
              "    </tr>\n",
              "  </thead>\n",
              "  <tbody>\n",
              "    <tr>\n",
              "      <th>0</th>\n",
              "      <td>A</td>\n",
              "      <td>32</td>\n",
              "    </tr>\n",
              "    <tr>\n",
              "      <th>1</th>\n",
              "      <td>B</td>\n",
              "      <td>56</td>\n",
              "    </tr>\n",
              "    <tr>\n",
              "      <th>2</th>\n",
              "      <td>C</td>\n",
              "      <td>92</td>\n",
              "    </tr>\n",
              "    <tr>\n",
              "      <th>3</th>\n",
              "      <td>D</td>\n",
              "      <td>44</td>\n",
              "    </tr>\n",
              "  </tbody>\n",
              "</table>\n",
              "</div>"
            ],
            "text/plain": [
              "  Name  Marks\n",
              "0    A     32\n",
              "1    B     56\n",
              "2    C     92\n",
              "3    D     44"
            ]
          },
          "metadata": {
            "tags": []
          },
          "execution_count": 4
        }
      ]
    },
    {
      "cell_type": "code",
      "metadata": {
        "colab": {
          "base_uri": "https://localhost:8080/",
          "height": 393
        },
        "id": "wFtdPK-ciqBx",
        "outputId": "e4ba24d0-7c9a-47b6-a444-5c3e268b3e68"
      },
      "source": [
        "plt.figure(figsize=(8,6))\n",
        "plots = sns.barplot(x=\"Name\", y=\"Marks\", data = df)\n",
        "plt.xlabel(\"students\", size = 15)\n",
        "plt.ylabel(\"Marks Secured\", size=15)\n",
        "plt.show()"
      ],
      "execution_count": 5,
      "outputs": [
        {
          "output_type": "display_data",
          "data": {
            "image/png": "[encoded data removed]",
            "text/plain": [
              "<Figure size 576x432 with 1 Axes>"
            ]
          },
          "metadata": {
            "tags": [],
            "needs_background": "light"
          }
        }
      ]
    },
    {
      "cell_type": "code",
      "metadata": {
        "colab": {
          "base_uri": "https://localhost:8080/",
          "height": 517
        },
        "id": "6WZ8W8YujoRY",
        "outputId": "40c21ac9-6f85-49c5-a346-76db92d84072"
      },
      "source": [
        "plt.figure(figsize=(8,8))\n",
        "plots = sns.barplot(x=\"Name\", y=\"Marks\", data=df)\n",
        "for bar in plots.patches:\n",
        "  plots.annotate(format(bar.get_height(), '.2f'), (bar.get_x() + bar.get_width()/2, bar.get_height()), ha = 'center', va='center', size = 15, xytext=(0,8),textcoords='offset points')\n",
        "plt.xlabel(\"students\", size = 14)\n",
        "plt.ylabel(\"Marks Secured\", size=14)\n",
        "plt.title(\"This is an annotated barplot\")\n",
        "plt.show()"
      ],
      "execution_count": 6,
      "outputs": [
        {
          "output_type": "display_data",
          "data": {
            "image/png": "[encoded data removed]",
            "text/plain": [
              "<Figure size 576x576 with 1 Axes>"
            ]
          },
          "metadata": {
            "tags": [],
            "needs_background": "light"
          }
        }
      ]
    },
    {
      "cell_type": "code",
      "metadata": {
        "colab": {
          "base_uri": "https://localhost:8080/",
          "height": 295
        },
        "id": "NJEJUzMEluXT",
        "outputId": "6c5744b6-a69d-49cf-bef4-a032fd03177a"
      },
      "source": [
        "import numpy as np\n",
        "import pandas as pd\n",
        "import seaborn as sns\n",
        "import matplotlib.pyplot as plt\n",
        "\n",
        "data = {\"Language\": [\"Python\", \"C++\", \"Java\"],\n",
        "        \"Students\": [75.00,50.00,25.00]}\n",
        "\n",
        "df = pd.DataFrame(data, columns = ['Language', 'Students'])\n",
        "\n",
        "# plt.figure(figsize=(5,5))\n",
        "\n",
        "plots = sns.barplot(x=\"Language\", y=\"Students\", data=df)\n",
        "\n",
        "for bar in plots.patches:\n",
        "  plots.annotate(format(bar.get_height(),'2f'),(bar.get_x() + bar.get_width()/2,bar.get_height()),ha='center', va = 'center', size=15, xytext=(0,5), textcoords='offset points')\n",
        "\n",
        "plt.title(\"reference geeksforgeeks\")\n",
        "\n",
        "plt.show()"
      ],
      "execution_count": 30,
      "outputs": [
        {
          "output_type": "display_data",
          "data": {
            "image/png": "[encoded data removed]",
            "text/plain": [
              "<Figure size 432x288 with 1 Axes>"
            ]
          },
          "metadata": {
            "tags": [],
            "needs_background": "light"
          }
        }
      ]
    },
    {
      "cell_type": "code",
      "metadata": {
        "id": "lkZZPAIDKWRH"
      },
      "source": [
        ""
      ],
      "execution_count": null,
      "outputs": []
    }
  ]
}