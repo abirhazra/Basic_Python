{
  "nbformat": 4,
  "nbformat_minor": 0,
  "metadata": {
    "colab": {
      "name": "simpy_library.ipynb",
      "provenance": [],
      "collapsed_sections": [],
      "authorship_tag": "ABX9TyOiQxj4CCmyJrcFun9jpxgJ",
      "include_colab_link": true
    },
    "kernelspec": {
      "name": "python3",
      "display_name": "Python 3"
    }
  },
  "cells": [
    {
      "cell_type": "markdown",
      "metadata": {
        "id": "view-in-github",
        "colab_type": "text"
      },
      "source": [
        "<a href=\"https://colab.research.google.com/github/abirhazra/Basic_Python/blob/main/simpy_library.ipynb\" target=\"_parent\"><img src=\"https://colab.research.google.com/assets/colab-badge.svg\" alt=\"Open In Colab\"/></a>"
      ]
    },
    {
      "cell_type": "code",
      "metadata": {
        "colab": {
          "base_uri": "https://localhost:8080/"
        },
        "id": "dX5zdjCUvMZ2",
        "outputId": "43ab014e-6672-4cc6-fac9-bca9ce88f4ed"
      },
      "source": [
        "#!/usr/bin/env python3\n",
        "# -*- coding: utf-8 -*-\n",
        "\"\"\"\n",
        "Created on Sat Oct 26 09:32:24 2019\n",
        "\n",
        "@author: abhishek\n",
        "\"\"\"\n",
        "\n",
        "!pip install simpy"
      ],
      "execution_count": 4,
      "outputs": [
        {
          "output_type": "stream",
          "text": [
            "Requirement already satisfied: simpy in /usr/local/lib/python3.7/dist-packages (4.0.1)\n"
          ],
          "name": "stdout"
        }
      ]
    },
    {
      "cell_type": "code",
      "metadata": {
        "id": "StQ-_B1J3zAO",
        "colab": {
          "base_uri": "https://localhost:8080/"
        },
        "outputId": "cdc9b604-4af7-488b-bbed-067a34b24f2f"
      },
      "source": [
        "import simpy\n",
        "import numpy as np\n",
        "\n",
        "def generate_interarrival():\n",
        "    return np.random.exponential(1./3.0)\n",
        "\n",
        "def cafe_run(env):\n",
        "    while True:\n",
        "        yield env.timeout(generate_interarrival())\n",
        "        print (env.now, 'customer arrivals')\n",
        "        \n",
        "env = simpy.Environment()\n",
        "\n",
        "env.process(cafe_run(env))\n",
        "\n",
        "env.run(until=10)\n",
        "    "
      ],
      "execution_count": 5,
      "outputs": [
        {
          "output_type": "stream",
          "text": [
            "0.004861161374107708 customer arrivals\n",
            "0.17763846401834715 customer arrivals\n",
            "0.3095151030409767 customer arrivals\n",
            "0.5838428069463628 customer arrivals\n",
            "0.6464489731325932 customer arrivals\n",
            "0.667670448792939 customer arrivals\n",
            "0.9918338602750509 customer arrivals\n",
            "1.4762459421110645 customer arrivals\n",
            "1.5295793178714612 customer arrivals\n",
            "1.6261576018177355 customer arrivals\n",
            "2.965787757823153 customer arrivals\n",
            "3.2549914668068545 customer arrivals\n",
            "3.4012001420870956 customer arrivals\n",
            "4.005097677168271 customer arrivals\n",
            "4.1215619523639315 customer arrivals\n",
            "4.127538909089311 customer arrivals\n",
            "4.444493796796659 customer arrivals\n",
            "4.779409675304894 customer arrivals\n",
            "4.804240205344666 customer arrivals\n",
            "4.884641523146978 customer arrivals\n",
            "4.911791028053415 customer arrivals\n",
            "7.4523201721790375 customer arrivals\n",
            "7.545430689216651 customer arrivals\n",
            "7.898261139996169 customer arrivals\n",
            "8.664091241722668 customer arrivals\n",
            "8.865801759390076 customer arrivals\n",
            "9.273892887470005 customer arrivals\n",
            "9.64040272803471 customer arrivals\n",
            "9.972887025347871 customer arrivals\n"
          ],
          "name": "stdout"
        }
      ]
    }
  ]
}